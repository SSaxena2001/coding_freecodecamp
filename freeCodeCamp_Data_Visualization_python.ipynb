{
 "cells": [
  {
   "cell_type": "code",
   "execution_count": 1,
   "source": [
    "words = 'His e-mail is q-lar@freecodecamp.org'\r\n",
    "pieces = words.split()\r\n",
    "parts = pieces[3].split('-')\r\n",
    "n = parts[1]\r\n",
    "print(n)"
   ],
   "outputs": [
    {
     "output_type": "stream",
     "name": "stdout",
     "text": [
      "lar@freecodecamp.org\n"
     ]
    }
   ],
   "metadata": {}
  },
  {
   "cell_type": "code",
   "execution_count": 8,
   "source": [
    "def solve(s):\r\n",
    "    print (' '.join(word.capitalize() for word in s.split(' ')))\r\n",
    "solve(\"hello world\");"
   ],
   "outputs": [
    {
     "output_type": "stream",
     "name": "stdout",
     "text": [
      "Hello World\n"
     ]
    }
   ],
   "metadata": {}
  },
  {
   "cell_type": "code",
   "execution_count": 2,
   "source": [
    "counts = { 'quincy' : 1 , 'mrugesh' : 42, 'beau': 100, '0': 10}\r\n",
    "print(counts.get('kris', 0))"
   ],
   "outputs": [
    {
     "output_type": "stream",
     "name": "stdout",
     "text": [
      "0\n"
     ]
    }
   ],
   "metadata": {}
  },
  {
   "cell_type": "code",
   "execution_count": 3,
   "source": [
    "counts = { 'chuck' : 1 , 'annie' : 42, 'jan': 100}\r\n",
    "for key in counts:\r\n",
    "    if counts[key] > 10:\r\n",
    "        print(key, counts[key])"
   ],
   "outputs": [
    {
     "output_type": "stream",
     "name": "stdout",
     "text": [
      "annie 42\n",
      "jan 100\n"
     ]
    }
   ],
   "metadata": {}
  },
  {
   "cell_type": "code",
   "execution_count": 4,
   "source": [
    "d = dict()\r\n",
    "d['quincy'] = 1\r\n",
    "d['beau'] = 5\r\n",
    "d['kris'] = 9\r\n",
    "for (k,i) in d.items():\r\n",
    "    print(k, i)"
   ],
   "outputs": [
    {
     "output_type": "stream",
     "name": "stdout",
     "text": [
      "quincy 1\n",
      "beau 5\n",
      "kris 9\n"
     ]
    }
   ],
   "metadata": {}
  },
  {
   "cell_type": "code",
   "execution_count": 5,
   "source": [
    "import re\r\n",
    "s = 'A message from csev@umich.edu to cwen@iupui.edu about meeting @2PM'\r\n",
    "lst = re.findall('\\\\S+@\\\\S+', s)\r\n",
    "print(lst)"
   ],
   "outputs": [
    {
     "output_type": "stream",
     "name": "stdout",
     "text": [
      "['csev@umich.edu', 'cwen@iupui.edu']\n"
     ]
    }
   ],
   "metadata": {}
  },
  {
   "cell_type": "code",
   "execution_count": null,
   "source": [],
   "outputs": [],
   "metadata": {}
  },
  {
   "cell_type": "code",
   "execution_count": 6,
   "source": [
    "import urllib.request\r\n",
    "fhand = urllib.request.urlopen('http://data.pr4e.org/romeo.txt')\r\n",
    "for line in fhand:\r\n",
    "    print(line.decode().strip())"
   ],
   "outputs": [
    {
     "output_type": "stream",
     "name": "stdout",
     "text": [
      "But soft what light through yonder window breaks\n",
      "It is the east and Juliet is the sun\n",
      "Arise fair sun and kill the envious moon\n",
      "Who is already sick and pale with grief\n"
     ]
    }
   ],
   "metadata": {}
  },
  {
   "cell_type": "code",
   "execution_count": 7,
   "source": [
    "import json\r\n",
    "data = '''\r\n",
    "  [\r\n",
    "    { \"id\" : \"001\",\r\n",
    "      \"x\" : \"2\",\r\n",
    "     \"name\" : \"Quincy\"\r\n",
    "    } ,\r\n",
    "    { \"id\" : \"009\",\r\n",
    "      \"x\" : \"7\",\r\n",
    "      \"name\" : \"Mrugesh\"\r\n",
    "    }\r\n",
    "  ]\r\n",
    "'''\r\n",
    "info = json.loads(data)\r\n",
    "print(info[1]['name'])"
   ],
   "outputs": [
    {
     "output_type": "stream",
     "name": "stdout",
     "text": [
      "Mrugesh\n"
     ]
    }
   ],
   "metadata": {}
  },
  {
   "cell_type": "code",
   "execution_count": 14,
   "source": [
    "def add_time(start, duration,optional=None):\r\n",
    "    [start_hrs,start_min_alias]=start.split(\":\")\r\n",
    "    [start_min,start_alias]=start_min_alias.split(\" \")\r\n",
    "    [duration_hrs,duration_min]=duration.split(\":\")\r\n",
    "    if(optional!=None):\r\n",
    "        day=optional\r\n",
    "    time_end=':'.join([str(start_hrs+duration_hrs),str(start_min+duration_min)]);\r\n",
    "    # print(start_hrs,start_time,start_min)\r\n",
    "    print(time_end)\r\n",
    "\r\n",
    "\r\n",
    "    # return new_time\r\n",
    "add_time(\"3:00 PM\", \"3:10\")"
   ],
   "outputs": [
    {
     "output_type": "stream",
     "name": "stdout",
     "text": [
      "33:0010\n"
     ]
    }
   ],
   "metadata": {}
  },
  {
   "cell_type": "code",
   "execution_count": null,
   "source": [
    "add_time(\"3:00 PM\", \"3:10\")\r\n",
    "add_time(\"11:43 PM\", \"24:20\", \"tueSday\")\r\n",
    "add_time(\"6:30 PM\", \"205:12\")\r\n",
    "add_time(\"11:30 AM\", \"2:32\", \"Monday\")"
   ],
   "outputs": [],
   "metadata": {}
  },
  {
   "cell_type": "code",
   "execution_count": null,
   "source": [
    "alphabet = ['a', 'b', 'c', 'd', 'e', 'f', 'g', 'h', 'i', 'j', 'k', 'l', 'm', 'n', 'o', 'p', 'q', 'r', 's', 't', 'u', 'v', 'w', 'x', 'y', 'z']\r\n",
    "\r\n",
    "#direction = input(\"Type 'encode' to encrypt, type 'decode' to decrypt:\\n\")\r\n",
    "text = input(\"Type your message:\\n\").lower()\r\n",
    "shift = int(input(\"Type the shift number:\\n\"))\r\n",
    "\r\n",
    "def encrypt(text,shift):\r\n",
    "  result=[]\r\n",
    "  arr=text.split()\r\n",
    "  for i in range(len(arr)-1):\r\n",
    "    index_alphabet=alphabet.index(arr[i])\r\n",
    "    if(index_alphabet+shift<=25):\r\n",
    "      result.append(alphabet[index_alphabet+shift]);\r\n",
    "    else:\r\n",
    "      result.append(alphabet[index_alphabet+shift-26]);\r\n",
    "  print(result)\r\n",
    "\r\n",
    "encrypt(text,shift)"
   ],
   "outputs": [],
   "metadata": {}
  }
 ],
 "metadata": {
  "interpreter": {
   "hash": "b1fe850049473e32d2e890f42033ba109f548f414227865224c96019503140f5"
  },
  "kernelspec": {
   "display_name": "Python 3.7.10 64-bit ('virtual': conda)",
   "name": "python3"
  },
  "language_info": {
   "codemirror_mode": {
    "name": "ipython",
    "version": 3
   },
   "file_extension": ".py",
   "mimetype": "text/x-python",
   "name": "python",
   "nbconvert_exporter": "python",
   "pygments_lexer": "ipython3",
   "version": "3.7.10"
  },
  "orig_nbformat": 4
 },
 "nbformat": 4,
 "nbformat_minor": 2
}